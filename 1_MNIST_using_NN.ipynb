{
 "cells": [
  {
   "cell_type": "code",
   "execution_count": 2,
   "id": "289d3ee5",
   "metadata": {
    "collapsed": true
   },
   "outputs": [
    {
     "name": "stdout",
     "output_type": "stream",
     "text": [
      "Collecting matplotlibNote: you may need to restart the kernel to use updated packages.\n",
      "\n",
      "  Downloading matplotlib-3.5.3-cp37-cp37m-win_amd64.whl (7.2 MB)\n",
      "     ---------------------------------------- 7.2/7.2 MB 2.3 MB/s eta 0:00:00\n",
      "Requirement already satisfied: numpy>=1.17 in c:\\users\\rsshi\\anaconda3\\envs\\dlc\\lib\\site-packages (from matplotlib) (1.21.6)\n",
      "Collecting kiwisolver>=1.0.1\n",
      "  Downloading kiwisolver-1.4.5-cp37-cp37m-win_amd64.whl (55 kB)\n",
      "     ---------------------------------------- 55.8/55.8 kB 1.4 MB/s eta 0:00:00\n",
      "Requirement already satisfied: packaging>=20.0 in c:\\users\\rsshi\\anaconda3\\envs\\dlc\\lib\\site-packages (from matplotlib) (24.0)\n",
      "Requirement already satisfied: python-dateutil>=2.7 in c:\\users\\rsshi\\anaconda3\\envs\\dlc\\lib\\site-packages (from matplotlib) (2.9.0.post0)\n",
      "Collecting fonttools>=4.22.0\n",
      "  Downloading fonttools-4.38.0-py3-none-any.whl (965 kB)\n",
      "     -------------------------------------- 965.4/965.4 kB 2.7 MB/s eta 0:00:00\n",
      "Collecting pyparsing>=2.2.1\n",
      "  Downloading pyparsing-3.1.4-py3-none-any.whl (104 kB)\n",
      "     -------------------------------------- 104.1/104.1 kB 2.9 MB/s eta 0:00:00\n",
      "Collecting cycler>=0.10\n",
      "  Downloading cycler-0.11.0-py3-none-any.whl (6.4 kB)\n",
      "Collecting pillow>=6.2.0\n",
      "  Downloading Pillow-9.5.0-cp37-cp37m-win_amd64.whl (2.5 MB)\n",
      "     ---------------------------------------- 2.5/2.5 MB 2.9 MB/s eta 0:00:00\n",
      "Requirement already satisfied: typing-extensions in c:\\users\\rsshi\\anaconda3\\envs\\dlc\\lib\\site-packages (from kiwisolver>=1.0.1->matplotlib) (4.7.1)\n",
      "Requirement already satisfied: six>=1.5 in c:\\users\\rsshi\\anaconda3\\envs\\dlc\\lib\\site-packages (from python-dateutil>=2.7->matplotlib) (1.17.0)\n",
      "Installing collected packages: pyparsing, pillow, kiwisolver, fonttools, cycler, matplotlib\n",
      "Successfully installed cycler-0.11.0 fonttools-4.38.0 kiwisolver-1.4.5 matplotlib-3.5.3 pillow-9.5.0 pyparsing-3.1.4\n"
     ]
    }
   ],
   "source": [
    "pip install matplotlib"
   ]
  },
  {
   "cell_type": "code",
   "execution_count": 10,
   "id": "11ee8a7a",
   "metadata": {},
   "outputs": [],
   "source": [
    "import numpy as np\n",
    "import pandas as pd\n",
    "import matplotlib.pyplot as plt\n",
    "from sklearn.model_selection import train_test_split\n",
    "from tensorflow.keras.models import Sequential\n",
    "from tensorflow.keras.layers import Dense, Flatten, Input\n",
    "from tensorflow.keras.utils import to_categorical"
   ]
  },
  {
   "cell_type": "code",
   "execution_count": 18,
   "id": "f0dfc61a",
   "metadata": {},
   "outputs": [
    {
     "name": "stdout",
     "output_type": "stream",
     "text": [
      "Shape of train_data: (42000, 785)\n",
      "Shape of X after separating features: (42000, 784)\n"
     ]
    }
   ],
   "source": [
    "train_data = pd.read_csv('datasets/Train.csv')\n",
    "print(\"Shape of train_data:\", train_data.shape)\n",
    "\n",
    "\n",
    "X = train_data.iloc[:, 1:]  \n",
    "y = train_data.iloc[:, 0]   \n",
    "\n",
    "print(\"Shape of X after separating features:\", X.shape)"
   ]
  },
  {
   "cell_type": "code",
   "execution_count": 6,
   "id": "7a1496f3",
   "metadata": {},
   "outputs": [
    {
     "name": "stdout",
     "output_type": "stream",
     "text": [
      "Shape of X after reshaping: (42000, 28, 28, 1)\n"
     ]
    }
   ],
   "source": [
    "if not isinstance(X, pd.DataFrame):\n",
    "    X = pd.DataFrame(X)\n",
    "X = X.apply(pd.to_numeric, errors='coerce')\n",
    "X = X.fillna(0)  \n",
    "X = X.values / 255.0\n",
    "X = X.reshape(-1, 28, 28, 1)\n",
    "print(\"Shape of X after reshaping:\", X.shape)"
   ]
  },
  {
   "cell_type": "code",
   "execution_count": 7,
   "id": "cb51a888",
   "metadata": {},
   "outputs": [
    {
     "name": "stdout",
     "output_type": "stream",
     "text": [
      "Shape of y after one-hot encoding: (42000, 10)\n"
     ]
    }
   ],
   "source": [
    "y = to_categorical(y, num_classes=10)\n",
    "print(\"Shape of y after one-hot encoding:\", y.shape)"
   ]
  },
  {
   "cell_type": "code",
   "execution_count": 8,
   "id": "400ad1cc",
   "metadata": {},
   "outputs": [
    {
     "name": "stdout",
     "output_type": "stream",
     "text": [
      "X_train shape: (33600, 28, 28, 1)\n"
     ]
    }
   ],
   "source": [
    "X_train, X_val, y_train, y_val = train_test_split(X, y, test_size=0.2, random_state=42)\n",
    "print(\"X_train shape:\", X_train.shape)"
   ]
  },
  {
   "cell_type": "code",
   "execution_count": 11,
   "id": "293f4cef",
   "metadata": {},
   "outputs": [
    {
     "name": "stdout",
     "output_type": "stream",
     "text": [
      "Model: \"sequential\"\n",
      "_________________________________________________________________\n",
      " Layer (type)                Output Shape              Param #   \n",
      "=================================================================\n",
      " flatten (Flatten)           (None, 784)               0         \n",
      "                                                                 \n",
      " dense (Dense)               (None, 128)               100480    \n",
      "                                                                 \n",
      " dense_1 (Dense)             (None, 64)                8256      \n",
      "                                                                 \n",
      " dense_2 (Dense)             (None, 10)                650       \n",
      "                                                                 \n",
      "=================================================================\n",
      "Total params: 109,386\n",
      "Trainable params: 109,386\n",
      "Non-trainable params: 0\n",
      "_________________________________________________________________\n"
     ]
    }
   ],
   "source": [
    "model = Sequential([\n",
    "    Input(shape=(28, 28, 1)),\n",
    "    Flatten(),\n",
    "    Dense(128, activation='relu'),\n",
    "    Dense(64, activation='relu'),\n",
    "    Dense(10, activation='softmax')\n",
    "])\n",
    "model.compile(optimizer='adam', loss='categorical_crossentropy', metrics=['accuracy'])\n",
    "model.summary()"
   ]
  },
  {
   "cell_type": "code",
   "execution_count": 12,
   "id": "507623a0",
   "metadata": {},
   "outputs": [
    {
     "name": "stdout",
     "output_type": "stream",
     "text": [
      "Epoch 1/10\n",
      "1050/1050 [==============================] - 10s 7ms/step - loss: 0.3193 - accuracy: 0.9065 - val_loss: 0.1929 - val_accuracy: 0.9423\n",
      "Epoch 2/10\n",
      "1050/1050 [==============================] - 7s 6ms/step - loss: 0.1329 - accuracy: 0.9602 - val_loss: 0.1326 - val_accuracy: 0.9598\n",
      "Epoch 3/10\n",
      "1050/1050 [==============================] - 7s 6ms/step - loss: 0.0919 - accuracy: 0.9724 - val_loss: 0.1158 - val_accuracy: 0.9646\n",
      "Epoch 4/10\n",
      "1050/1050 [==============================] - 7s 6ms/step - loss: 0.0670 - accuracy: 0.9789 - val_loss: 0.0957 - val_accuracy: 0.9701\n",
      "Epoch 5/10\n",
      "1050/1050 [==============================] - 7s 6ms/step - loss: 0.0511 - accuracy: 0.9831 - val_loss: 0.0929 - val_accuracy: 0.9705\n",
      "Epoch 6/10\n",
      "1050/1050 [==============================] - 6s 6ms/step - loss: 0.0423 - accuracy: 0.9867 - val_loss: 0.0928 - val_accuracy: 0.9725\n",
      "Epoch 7/10\n",
      "1050/1050 [==============================] - 6s 6ms/step - loss: 0.0320 - accuracy: 0.9902 - val_loss: 0.1028 - val_accuracy: 0.9714\n",
      "Epoch 8/10\n",
      "1050/1050 [==============================] - 6s 6ms/step - loss: 0.0245 - accuracy: 0.9919 - val_loss: 0.1079 - val_accuracy: 0.9713\n",
      "Epoch 9/10\n",
      "1050/1050 [==============================] - 7s 6ms/step - loss: 0.0224 - accuracy: 0.9930 - val_loss: 0.1026 - val_accuracy: 0.9736\n",
      "Epoch 10/10\n",
      "1050/1050 [==============================] - 6s 6ms/step - loss: 0.0198 - accuracy: 0.9939 - val_loss: 0.1343 - val_accuracy: 0.9677\n"
     ]
    }
   ],
   "source": [
    "history = model.fit(X_train, y_train, epochs=10, batch_size=32, validation_data=(X_val, y_val))"
   ]
  },
  {
   "cell_type": "code",
   "execution_count": 13,
   "id": "9c66698e",
   "metadata": {},
   "outputs": [
    {
     "name": "stdout",
     "output_type": "stream",
     "text": [
      "263/263 [==============================] - 1s 4ms/step - loss: 0.1343 - accuracy: 0.9677\n",
      "Validation Accuracy: 96.77%\n"
     ]
    },
    {
     "data": {
      "image/png": "[encoded data removed]",
      "text/plain": [
       "<Figure size 640x480 with 1 Axes>"
      ]
     },
     "metadata": {},
     "output_type": "display_data"
    }
   ],
   "source": [
    "val_loss, val_accuracy = model.evaluate(X_val, y_val)\n",
    "print(f\"Validation Accuracy: {val_accuracy * 100:.2f}%\")\n",
    "plt.plot(history.history['accuracy'], label='Training Accuracy')\n",
    "plt.plot(history.history['val_accuracy'], label='Validation Accuracy')\n",
    "plt.legend()\n",
    "plt.show()"
   ]
  },
  {
   "cell_type": "code",
   "execution_count": 19,
   "id": "c2d95240",
   "metadata": {},
   "outputs": [
    {
     "name": "stdout",
     "output_type": "stream",
     "text": [
      "175/175 [==============================] - 1s 3ms/step\n"
     ]
    },
    {
     "data": {
      "image/png": "[encoded data removed]",
      "text/plain": [
       "<Figure size 640x480 with 1 Axes>"
      ]
     },
     "metadata": {},
     "output_type": "display_data"
    },
    {
     "data": {
      "image/png": "[encoded data removed]",
      "text/plain": [
       "<Figure size 640x480 with 1 Axes>"
      ]
     },
     "metadata": {},
     "output_type": "display_data"
    },
    {
     "data": {
      "image/png": "[encoded data removed]",
      "text/plain": [
       "<Figure size 640x480 with 1 Axes>"
      ]
     },
     "metadata": {},
     "output_type": "display_data"
    },
    {
     "data": {
      "image/png": "[encoded data removed]",
      "text/plain": [
       "<Figure size 640x480 with 1 Axes>"
      ]
     },
     "metadata": {},
     "output_type": "display_data"
    },
    {
     "data": {
      "image/png": "[encoded data removed]",
      "text/plain": [
       "<Figure size 640x480 with 1 Axes>"
      ]
     },
     "metadata": {},
     "output_type": "display_data"
    }
   ],
   "source": [
    "test_data = pd.read_csv('datasets/test.csv')\n",
    "X_test = test_data.values / 255.0\n",
    "X_test = X_test.reshape(-1, 28, 28, 1)\n",
    "predictions = model.predict(X_test)\n",
    "predicted_labels = np.argmax(predictions, axis=1)\n",
    "for i in range(5):\n",
    "    plt.imshow(X_test[i].reshape(28, 28), cmap='gray')\n",
    "    plt.title(f\"Predicted: {predicted_labels[i]}\")\n",
    "    plt.axis('off')\n",
    "    plt.show()"
   ]
  }
 ],
 "metadata": {
  "kernelspec": {
   "display_name": "Python 3 (ipykernel)",
   "language": "python",
   "name": "python3"
  },
  "language_info": {
   "codemirror_mode": {
    "name": "ipython",
    "version": 3
   },
   "file_extension": ".py",
   "mimetype": "text/x-python",
   "name": "python",
   "nbconvert_exporter": "python",
   "pygments_lexer": "ipython3",
   "version": "3.7.16"
  }
 },
 "nbformat": 4,
 "nbformat_minor": 5
}
